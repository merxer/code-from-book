{
  "nbformat": 4,
  "nbformat_minor": 0,
  "metadata": {
    "colab": {
      "name": "Hackbook.ipynb",
      "provenance": [],
      "authorship_tag": "ABX9TyN1EXBC7UHmXGIz4mM4uG0i",
      "include_colab_link": true
    },
    "kernelspec": {
      "name": "python3",
      "display_name": "Python 3"
    }
  },
  "cells": [
    {
      "cell_type": "markdown",
      "metadata": {
        "id": "view-in-github",
        "colab_type": "text"
      },
      "source": [
        "<a href=\"https://colab.research.google.com/github/merxer/code-from-book/blob/master/Hackbook.ipynb\" target=\"_parent\"><img src=\"https://colab.research.google.com/assets/colab-badge.svg\" alt=\"Open In Colab\"/></a>"
      ]
    },
    {
      "cell_type": "markdown",
      "metadata": {
        "id": "iYwl2Bwy7IaV",
        "colab_type": "text"
      },
      "source": [
        "ลงโปรแกรม หรือเครื่องมือสำหรับแฮก โดยใช้เครื่องหมาย ! และตามด้วยคำสั่งต่างๆ ของ linux ตามปกติ\n",
        "\n",
        "ยกตัวอย่างเช่นลง nmap สำหรับเก็บข้อมูล"
      ]
    },
    {
      "cell_type": "code",
      "metadata": {
        "id": "ZS7q5JKJ3-Yc",
        "colab_type": "code",
        "colab": {}
      },
      "source": [
        "!apt install -y nmap"
      ],
      "execution_count": 0,
      "outputs": []
    },
    {
      "cell_type": "markdown",
      "metadata": {
        "id": "2ui_0DJ-5gDd",
        "colab_type": "text"
      },
      "source": [
        "ทำการแสกนพอร์ตปลายทาง ว่าเปิด service อะไรบ้าง\n",
        "\n"
      ]
    },
    {
      "cell_type": "code",
      "metadata": {
        "id": "NOwHf7MJ5In9",
        "colab_type": "code",
        "colab": {
          "base_uri": "https://localhost:8080/",
          "height": 433
        },
        "outputId": "e63e094a-7047-40a4-b07a-7d7e67f9bda9"
      },
      "source": [
        "!nmap -sT extosoft.com"
      ],
      "execution_count": 15,
      "outputs": [
        {
          "output_type": "stream",
          "text": [
            "\n",
            "Starting Nmap 7.60 ( https://nmap.org ) at 2020-04-17 16:07 UTC\n",
            "Nmap scan report for extosoft.com (192.185.62.110)\n",
            "Host is up (0.040s latency).\n",
            "rDNS record for 192.185.62.110: mail.jamestrey.com\n",
            "Not shown: 985 closed ports\n",
            "PORT     STATE    SERVICE\n",
            "21/tcp   open     ftp\n",
            "22/tcp   open     ssh\n",
            "25/tcp   filtered smtp\n",
            "26/tcp   open     rsftp\n",
            "53/tcp   open     domain\n",
            "80/tcp   open     http\n",
            "110/tcp  open     pop3\n",
            "143/tcp  open     imap\n",
            "443/tcp  open     https\n",
            "465/tcp  open     smtps\n",
            "587/tcp  open     submission\n",
            "993/tcp  open     imaps\n",
            "995/tcp  open     pop3s\n",
            "2222/tcp open     EtherNetIP-1\n",
            "3306/tcp open     mysql\n",
            "\n",
            "Nmap done: 1 IP address (1 host up) scanned in 1.95 seconds\n"
          ],
          "name": "stdout"
        }
      ]
    }
  ]
}